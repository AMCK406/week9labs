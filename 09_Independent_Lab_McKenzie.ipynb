{
 "cells": [
  {
   "cell_type": "markdown",
   "id": "7e15670b-76eb-4465-9024-014d25494774",
   "metadata": {},
   "source": [
    "# Week 9 Independent Lab\n",
    "### BGEN 623 | University of Montana MSBA Program\n",
    "### Alex McKenzie | April 28, 2025"
   ]
  },
  {
   "cell_type": "code",
   "execution_count": 1,
   "id": "729faf02-1a54-4796-91e4-c196f5228875",
   "metadata": {},
   "outputs": [
    {
     "name": "stdout",
     "output_type": "stream",
     "text": [
      "['attitude1_01', 'attitude1_02', 'attitude1_03', 'attitude1_04', 'intent1_01', 'intent1_02', 'intent1_03', 'intent1_04', 'peruse01', 'peruse02', 'peruse03', 'peruse04', 'satis01', 'satis02', 'satis03', 'satis04']\n"
     ]
    }
   ],
   "source": [
    "# load modules\n",
    "\n",
    "import os\n",
    "import pandas as pd\n",
    "import numpy as np\n",
    "import matplotlib.pyplot as plt\n",
    "import scipy.stats as sts\n",
    "from scipy.stats import pearsonr\n",
    "from sklearn.linear_model import LinearRegression\n",
    "import statsmodels.api as sm\n",
    "\n",
    "ect = pd.read_csv('/Users/AlexMcKenzie/Library/CloudStorage/GoogleDrive-alex.c.mckenzie@gmail.com/My Drive/Education/UM Graduate School/BGEN632/week9labs/data/ect_data.txt', sep='\\t', engine='python')\n",
    "print(ect.columns.tolist())\n",
    "\n",
    "# Note I had some problems executing cell 11 because A) I didn't use 'sep='\\t'', so had to come back here to revise; and then B) I had issues using the 'add_constant' command due to having imported 'statsmodels.formulas.api', as we did in the tutorial."
   ]
  },
  {
   "cell_type": "code",
   "execution_count": 2,
   "id": "526872c9-12aa-40d0-a5f7-e56a4bfb5795",
   "metadata": {},
   "outputs": [
    {
     "name": "stdout",
     "output_type": "stream",
     "text": [
      "['attitude1_01', 'attitude1_02', 'attitude1_03', 'attitude1_04', 'intent1_01', 'intent1_02', 'intent1_03', 'intent1_04', 'peruse01', 'peruse02', 'peruse03', 'peruse04', 'satis01', 'satis02', 'satis03', 'satis04']\n"
     ]
    }
   ],
   "source": [
    "print(ect.columns.tolist())\n"
   ]
  },
  {
   "cell_type": "code",
   "execution_count": 6,
   "id": "91ca1583-8a73-4c29-ab4f-d02c1b81982e",
   "metadata": {},
   "outputs": [
    {
     "name": "stdout",
     "output_type": "stream",
     "text": [
      "                            OLS Regression Results                            \n",
      "==============================================================================\n",
      "Dep. Variable:             intent1_01   R-squared:                       0.473\n",
      "Model:                            OLS   Adj. R-squared:                  0.460\n",
      "Method:                 Least Squares   F-statistic:                     35.02\n",
      "Date:                Mon, 28 Apr 2025   Prob (F-statistic):           1.79e-25\n",
      "Time:                        15:23:52   Log-Likelihood:                -224.26\n",
      "No. Observations:                 201   AIC:                             460.5\n",
      "Df Residuals:                     195   BIC:                             480.3\n",
      "Df Model:                           5                                         \n",
      "Covariance Type:            nonrobust                                         \n",
      "==============================================================================\n",
      "                 coef    std err          t      P>|t|      [0.025      0.975]\n",
      "------------------------------------------------------------------------------\n",
      "const          1.6140      0.357      4.520      0.000       0.910       2.318\n",
      "peruse01       0.2753      0.084      3.277      0.001       0.110       0.441\n",
      "peruse02       0.0293      0.072      0.408      0.684      -0.112       0.171\n",
      "peruse03       0.1903      0.079      2.419      0.016       0.035       0.345\n",
      "satis03        0.1284      0.062      2.071      0.040       0.006       0.251\n",
      "satis04        0.1812      0.072      2.519      0.013       0.039       0.323\n",
      "==============================================================================\n",
      "Omnibus:                       40.626   Durbin-Watson:                   1.905\n",
      "Prob(Omnibus):                  0.000   Jarque-Bera (JB):              138.330\n",
      "Skew:                          -0.762   Prob(JB):                     9.16e-31\n",
      "Kurtosis:                       6.767   Cond. No.                         87.2\n",
      "==============================================================================\n",
      "\n",
      "Notes:\n",
      "[1] Standard Errors assume that the covariance matrix of the errors is correctly specified.\n",
      "                            OLS Regression Results                            \n",
      "==============================================================================\n",
      "Dep. Variable:             intent1_01   R-squared:                       0.473\n",
      "Model:                            OLS   Adj. R-squared:                  0.460\n",
      "Method:                 Least Squares   F-statistic:                     35.02\n",
      "Date:                Mon, 28 Apr 2025   Prob (F-statistic):           1.79e-25\n",
      "Time:                        15:23:52   Log-Likelihood:                -224.26\n",
      "No. Observations:                 201   AIC:                             460.5\n",
      "Df Residuals:                     195   BIC:                             480.3\n",
      "Df Model:                           5                                         \n",
      "Covariance Type:            nonrobust                                         \n",
      "==============================================================================\n",
      "                 coef    std err          t      P>|t|      [0.025      0.975]\n",
      "------------------------------------------------------------------------------\n",
      "const          1.6140      0.357      4.520      0.000       0.910       2.318\n",
      "peruse01       0.2753      0.084      3.277      0.001       0.110       0.441\n",
      "peruse02       0.0293      0.072      0.408      0.684      -0.112       0.171\n",
      "peruse03       0.1903      0.079      2.419      0.016       0.035       0.345\n",
      "satis03        0.1284      0.062      2.071      0.040       0.006       0.251\n",
      "satis04        0.1812      0.072      2.519      0.013       0.039       0.323\n",
      "==============================================================================\n",
      "Omnibus:                       40.626   Durbin-Watson:                   1.905\n",
      "Prob(Omnibus):                  0.000   Jarque-Bera (JB):              138.330\n",
      "Skew:                          -0.762   Prob(JB):                     9.16e-31\n",
      "Kurtosis:                       6.767   Cond. No.                         87.2\n",
      "==============================================================================\n",
      "\n",
      "Notes:\n",
      "[1] Standard Errors assume that the covariance matrix of the errors is correctly specified.\n"
     ]
    }
   ],
   "source": [
    "from statsmodels.tools import add_constant\n",
    "\n",
    "# Define predictors and response\n",
    "X = ect[['peruse01', 'peruse02', 'peruse03', 'satis03', 'satis04']]\n",
    "y = ect['intent1_01']\n",
    "\n",
    "# Add intercept\n",
    "X = sm.add_constant(X)\n",
    "X = sm.add_constant(X)\n",
    "\n",
    "model = sm.OLS(y, X).fit()\n",
    "print(model.summary())\n",
    "\n",
    "# View results\n",
    "print(model.summary())\n"
   ]
  },
  {
   "cell_type": "code",
   "execution_count": 8,
   "id": "269c33c7-b1b6-4daa-8bf5-12189afad334",
   "metadata": {},
   "outputs": [
    {
     "data": {
      "image/png": "[encoded data removed]",
      "text/plain": [
       "<Figure size 640x480 with 1 Axes>"
      ]
     },
     "metadata": {},
     "output_type": "display_data"
    }
   ],
   "source": [
    "# At this point I'm lost enough on the underlying statistical concepts that it makes the coding a tough ask. We're supposed to assess the assumptions, but I'm not sure what they even are!\n",
    "\n",
    "# scatter plot of fitted vs. residuals\n",
    "plt.scatter(model.fittedvalues, model.resid)\n",
    "plt.axhline(0, linestyle='--')\n",
    "plt.xlabel('Fitted values')\n",
    "plt.ylabel('Residuals')\n",
    "plt.show()"
   ]
  },
  {
   "cell_type": "code",
   "execution_count": 9,
   "id": "25bfe9ae-d624-4043-b311-00a104843876",
   "metadata": {},
   "outputs": [
    {
     "name": "stdout",
     "output_type": "stream",
     "text": [
      "const       45.584285\n",
      "peruse01     2.907392\n",
      "peruse02     2.735239\n",
      "peruse03     2.934754\n",
      "satis03      2.013541\n",
      "satis04      2.202170\n",
      "dtype: float64\n"
     ]
    }
   ],
   "source": [
    "from statsmodels.stats.outliers_influence import variance_inflation_factor\n",
    "\n",
    "# assume X_const is your design matrix including the constant\n",
    "vifs = pd.Series(\n",
    "    [variance_inflation_factor(X.values, i) for i in range(X.shape[1])],\n",
    "    index=X.columns\n",
    ")\n",
    "print(vifs)\n"
   ]
  },
  {
   "cell_type": "code",
   "execution_count": 10,
   "id": "cf53d65a-5b32-4c15-b7b3-1ca9096972c5",
   "metadata": {},
   "outputs": [
    {
     "name": "stdout",
     "output_type": "stream",
     "text": [
      "BP p-value = 3.32337900399549e-05\n"
     ]
    }
   ],
   "source": [
    "from statsmodels.stats.diagnostic import het_breuschpagan\n",
    "\n",
    "bp_stat, bp_pvalue, _, _ = het_breuschpagan(model.resid, model.model.exog)\n",
    "print('BP p-value =', bp_pvalue)\n"
   ]
  },
  {
   "cell_type": "code",
   "execution_count": 11,
   "id": "fa38a5de-69c9-4c8c-88e7-a5479aba0ca6",
   "metadata": {},
   "outputs": [
    {
     "name": "stdout",
     "output_type": "stream",
     "text": [
      "Durbin–Watson = 1.9047285601167387\n"
     ]
    }
   ],
   "source": [
    "from statsmodels.stats.stattools import durbin_watson\n",
    "\n",
    "dw = durbin_watson(model.resid)\n",
    "print('Durbin–Watson =', dw)\n"
   ]
  },
  {
   "cell_type": "code",
   "execution_count": 12,
   "id": "3919069a-a7da-46dc-8803-8a0a9df4d897",
   "metadata": {},
   "outputs": [
    {
     "data": {
      "image/png": "[encoded data removed]",
      "text/plain": [
       "<Figure size 640x480 with 1 Axes>"
      ]
     },
     "metadata": {},
     "output_type": "display_data"
    }
   ],
   "source": [
    "import statsmodels.api as sm\n",
    "sm.qqplot(model.resid, line='45')\n",
    "plt.show()\n"
   ]
  },
  {
   "cell_type": "code",
   "execution_count": 13,
   "id": "44fd13ca-42a2-4e30-87d3-31159d77130a",
   "metadata": {},
   "outputs": [
    {
     "name": "stdout",
     "output_type": "stream",
     "text": [
      "Shapiro p-value = 3.546790585127104e-06\n"
     ]
    }
   ],
   "source": [
    "from scipy.stats import shapiro\n",
    "stat, p = shapiro(model.resid)\n",
    "print('Shapiro p-value =', p)\n"
   ]
  },
  {
   "cell_type": "markdown",
   "id": "649b2f69-10e7-465b-8ee9-b5e45bc87bfa",
   "metadata": {},
   "source": [
    "### Interpreting results:  \n",
    "\n",
    "Linearity: Not sure what's going on, but relationship definitely isn't linear.\n",
    "\n",
    "Colinearity: Variance inflation factors are less than 5.0, so ChatGPT tells me we don't have any colinearity problems here. Admittedly, I'd a bit lost with this one.\n",
    "\n",
    "Homoscedasticity: ChatGPT says \"p < 0.05 rejects constant-variance; residual variance changes with fitted values (heteroscedasticity).\" Again, I'm fairly lost on the underlying statistical concepts.\n",
    "\n",
    "Independence: \"Close to 2; no serious autocorrelation in residuals.\" Help!\n",
    "\n",
    "Normality: \"Heavy tails and p < 0.05 tell us residuals deviate significantly from normal.\" I actually get the basic concept here, but the math and coding are still feeling quite elusive."
   ]
  },
  {
   "cell_type": "code",
   "execution_count": 15,
   "id": "7deca8f2-2919-41a7-91fa-40ec51cc6fa5",
   "metadata": {},
   "outputs": [
    {
     "name": "stdout",
     "output_type": "stream",
     "text": [
      "F-statistic: 35.0244209799111\n",
      "F-test p-value: 1.789524331981252e-25\n",
      "Coefficients:\n",
      " const       1.613962\n",
      "peruse01    0.275291\n",
      "peruse02    0.029308\n",
      "peruse03    0.190271\n",
      "satis03     0.128428\n",
      "satis04     0.181164\n",
      "dtype: float64\n",
      "   t-values:\n",
      " const       4.520465\n",
      "peruse01    3.277190\n",
      "peruse02    0.408137\n",
      "peruse03    2.419460\n",
      "satis03     2.070689\n",
      "satis04     2.519005\n",
      "dtype: float64\n",
      "   p-values:\n",
      " const       0.000011\n",
      "peruse01    0.001241\n",
      "peruse02    0.683621\n",
      "peruse03    0.016461\n",
      "satis03     0.039705\n",
      "satis04     0.012572\n",
      "dtype: float64\n"
     ]
    }
   ],
   "source": [
    "# Overall model F-test\n",
    "print(\"F-statistic:\", model.fvalue)\n",
    "print(\"F-test p-value:\", model.f_pvalue)\n",
    "\n",
    "# Individual coefficient t-tests\n",
    "print(\"Coefficients:\\n\", model.params)\n",
    "print(\"   t-values:\\n\", model.tvalues)\n",
    "print(\"   p-values:\\n\", model.pvalues)"
   ]
  },
  {
   "cell_type": "markdown",
   "id": "25517cfc-c5f6-4df0-830d-d0cdbe0b7094",
   "metadata": {},
   "source": [
    "### Interpreting the results:\n",
    "\n",
    "##### I am at this point totally lost, so am just going straight to the oracle:\n",
    "\n",
    "### Which variables are significant?\n",
    "Based on the individual t-tests (p-values < 0.05), four predictors are significant:\n",
    "\n",
    "peruse01 (p ≈ 0.0012)\n",
    "\n",
    "peruse03 (p ≈ 0.0165)\n",
    "\n",
    "satis03 (p ≈ 0.0397)\n",
    "\n",
    "satis04 (p ≈ 0.0126)\n",
    "\n",
    "(peruse02 is not significant, p ≈ 0.68.)\n",
    "\n",
    "The overall F-test (F ≈ 35.0, p ≈ 1.8 × 10⁻²⁵) confirms the model as a whole explains a significant amount of variance in intent1_01.\n",
    "\n",
    "### Two business-driven interpretations:\n",
    "\n",
    "peruse01 (β ≈ 0.275, p ≈ 0.0012)\n",
    "\n",
    "What it measures: Users’ belief that “this system improves my job performance” (e.g. perceived usefulness).\n",
    "\n",
    "Why it matters: When employees see a clear productivity boost, they’re far more likely to intend to use the system. Investing in features or training that highlight performance gains will therefore drive adoption.\n",
    "\n",
    "satis04 (β ≈ 0.181, p ≈ 0.0126)\n",
    "\n",
    "What it measures: Overall satisfaction with the system (e.g. “I’m pleased with how the system works”).\n",
    "\n",
    "Why it matters: Even if a tool is useful, low satisfaction (due to usability issues, support gaps, etc.) erodes intention to use. Focusing on user experience improvements and responsive support can therefore boost long-term adoption.\n",
    "\n",
    "These two variables explain both the “can-do” belief (usefulness) and the “want-to” feeling (satisfaction), which together form the core of driving user intent.\n",
    "\n",
    "#### At this point I'm kind of back on track -- we're measuring the employees responses to onboarding of the new system, and trying to take some measure of team morale and productivity outcomes. But the statistical approach is beyond me knowledge."
   ]
  },
  {
   "cell_type": "markdown",
   "id": "cd41842b-6b9f-4a0f-87ee-792eb7c16b31",
   "metadata": {},
   "source": [
    "### Provide the equation for my model and interpret the results:\n",
    "\n",
    "intent1_01_pred = 1.613962 \n",
    "                  + 0.275291*peruse01 \n",
    "                  + 0.029308*peruse02 \n",
    "                  + 0.190271*peruse03 \n",
    "                  + 0.128428*satis03 \n",
    "                  + 0.181164*satis04\n",
    "\n",
    "\"Employees’ perceptions of usefulness (especially peruse01 and peruse03) and their satisfaction (satis03 and satis04) all have positive, statistically significant associations with their stated intention to use the system. Peruse01 is the single strongest predictor in this model.\""
   ]
  },
  {
   "cell_type": "markdown",
   "id": "c7ce1c4a-98d6-4fe9-a6ea-7b1deae9c02a",
   "metadata": {},
   "source": [
    "# References and Comments\n",
    "\n",
    "I used ChatGPT for this assignment:\n",
    "\n",
    "https://drive.google.com/file/d/17RK9UM84AtfDEFG0zwWP4n4UGIJV49Fr/view?usp=sharing\n",
    "\n",
    "##### This assigment was interesting in a \"wow, neat\" sort of way... But to be honest, the combination of new statistical concepts, and underlying code syntax, makes it a fairly elusive experience. FWIW, note that I am currently using Jupyter for my professional work in finance and economic development, so I definitely AM learning a lot in this class that is proving useful. But this particular assignment was decidedly outside my bandwidth."
   ]
  }
 ],
 "metadata": {
  "kernelspec": {
   "display_name": "Python 3 (ipykernel)",
   "language": "python",
   "name": "python3"
  },
  "language_info": {
   "codemirror_mode": {
    "name": "ipython",
    "version": 3
   },
   "file_extension": ".py",
   "mimetype": "text/x-python",
   "name": "python",
   "nbconvert_exporter": "python",
   "pygments_lexer": "ipython3",
   "version": "3.12.7"
  }
 },
 "nbformat": 4,
 "nbformat_minor": 5
}
